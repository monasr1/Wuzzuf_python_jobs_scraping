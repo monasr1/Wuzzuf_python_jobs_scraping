{
 "cells": [
  {
   "cell_type": "markdown",
   "id": "bb5c2b39",
   "metadata": {},
   "source": [
    "### Setup my scraper"
   ]
  },
  {
   "cell_type": "code",
   "execution_count": 2,
   "id": "0543acbf",
   "metadata": {},
   "outputs": [],
   "source": [
    "# 1- import liberaries\n",
    "import requests\n",
    "from bs4 import BeautifulSoup\n",
    "import csv\n",
    "import lxml\n",
    "from itertools import zip_longest"
   ]
  },
  {
   "cell_type": "markdown",
   "id": "9fb08751",
   "metadata": {},
   "source": [
    "### find the element containig what we need\n",
    "job title, job skills, company name, location name"
   ]
  },
  {
   "cell_type": "code",
   "execution_count": 3,
   "id": "ec4ef56b",
   "metadata": {},
   "outputs": [],
   "source": [
    "job_title = []\n",
    "job_skill = []\n",
    "company_name = []\n",
    "location = []\n",
    "links = []\n",
    "page_num = 0"
   ]
  },
  {
   "cell_type": "code",
   "execution_count": 25,
   "id": "2ffef3ba",
   "metadata": {},
   "outputs": [],
   "source": [
    "while True :\n",
    "    # 2- requests to fetch the url\n",
    "    url = f'https://wuzzuf.net/search/jobs/?a=navbl&q=python&start={page_num}'\n",
    "    response = requests.get(url)\n",
    "    \n",
    "    # 3- page content\n",
    "    page = response.content \n",
    "    \n",
    "    # 4- creat soup object to parse content\n",
    "    soup = BeautifulSoup(page, 'lxml')\n",
    "    \n",
    "    page_limit = int(soup.find(\"strong\").text)\n",
    "    \n",
    "    if (page_num > page_limit // 15):\n",
    "        break\n",
    "    \n",
    "    \n",
    "    job_titles = soup.find_all('h2',{'class':'css-m604qf'})\n",
    "    job_skills = soup.find_all('div',{'class':'css-y4udm8'})\n",
    "    company_names = soup.find_all('a', {\"class\":\"css-17s97q8\"})\n",
    "    locations = soup.find_all('span', {\"class\":\"css-5wys0k\"})\n",
    "    \n",
    "    \n",
    "   \n",
    "\n",
    "    for i in range(len(job_titles)):\n",
    "        job_title.append(job_titles[i].text)\n",
    "    \n",
    "        links.append(job_titles[i].find('a').attrs['href'])\n",
    "        \n",
    "    \n",
    "        job_skill.append(job_skills[i].text)\n",
    "        company_name.append(company_names[i].text)\n",
    "        location.append(locations[i].text)\n",
    "\n",
    "    page_num += 1\n",
    "    "
   ]
  },
  {
   "cell_type": "code",
   "execution_count": null,
   "id": "0efbf5e6",
   "metadata": {},
   "outputs": [],
   "source": []
  },
  {
   "cell_type": "markdown",
   "id": "a8e67271",
   "metadata": {},
   "source": [
    "### Creat Dataframe"
   ]
  },
  {
   "cell_type": "code",
   "execution_count": 39,
   "id": "4fbeb2cb",
   "metadata": {},
   "outputs": [
    {
     "data": {
      "text/html": [
       "<div>\n",
       "<style scoped>\n",
       "    .dataframe tbody tr th:only-of-type {\n",
       "        vertical-align: middle;\n",
       "    }\n",
       "\n",
       "    .dataframe tbody tr th {\n",
       "        vertical-align: top;\n",
       "    }\n",
       "\n",
       "    .dataframe thead th {\n",
       "        text-align: right;\n",
       "    }\n",
       "</style>\n",
       "<table border=\"1\" class=\"dataframe\">\n",
       "  <thead>\n",
       "    <tr style=\"text-align: right;\">\n",
       "      <th></th>\n",
       "      <th>Job Titles</th>\n",
       "      <th>Job Skills</th>\n",
       "      <th>Company Name</th>\n",
       "      <th>Location</th>\n",
       "      <th>Links</th>\n",
       "    </tr>\n",
       "  </thead>\n",
       "  <tbody>\n",
       "    <tr>\n",
       "      <th>0</th>\n",
       "      <td>Senior Java/ Scala Backend Developer with Pyth...</td>\n",
       "      <td>Full TimeWork From HomeExperienced · 5+ Yrs of...</td>\n",
       "      <td>GetTechForce.com -</td>\n",
       "      <td>Cairo, Egypt</td>\n",
       "      <td>/jobs/p/jOSpVK9DRTCc-Senior-Java-Scala-Backend...</td>\n",
       "    </tr>\n",
       "    <tr>\n",
       "      <th>1</th>\n",
       "      <td>Senior Python Developer</td>\n",
       "      <td>Full TimeExperienced · 4+ Yrs of Exp · IT/Soft...</td>\n",
       "      <td>Trufla -</td>\n",
       "      <td>Heliopolis, Cairo, Egypt</td>\n",
       "      <td>/jobs/p/WBHqaf7WeZYe-Senior-Python-Developer-T...</td>\n",
       "    </tr>\n",
       "    <tr>\n",
       "      <th>2</th>\n",
       "      <td>Python Developer</td>\n",
       "      <td>Freelance / ProjectManager · 4 - 7 Yrs of Exp ...</td>\n",
       "      <td>Synergy Markets -</td>\n",
       "      <td>New Cairo, Cairo, Egypt</td>\n",
       "      <td>/jobs/p/Coiipd7kP6Za-Python-Developer-Synergy-...</td>\n",
       "    </tr>\n",
       "    <tr>\n",
       "      <th>3</th>\n",
       "      <td>Software Engineer (Python)</td>\n",
       "      <td>Full TimePart TimeWork From HomeExperienced · ...</td>\n",
       "      <td>Tam Development LLC -</td>\n",
       "      <td>Riyadh, Saudi Arabia</td>\n",
       "      <td>/jobs/p/rdnYmzyFCkGJ-Software-Engineer-Python-...</td>\n",
       "    </tr>\n",
       "    <tr>\n",
       "      <th>4</th>\n",
       "      <td>Python and Javascript Machine Learning Enginee...</td>\n",
       "      <td>Full TimeWork From HomeExperienced · 3+ Yrs of...</td>\n",
       "      <td>GetTechForce.com -</td>\n",
       "      <td>Cairo, Egypt</td>\n",
       "      <td>/jobs/p/DgaOYxVHPUE7-Python-and-Javascript-Mac...</td>\n",
       "    </tr>\n",
       "    <tr>\n",
       "      <th>...</th>\n",
       "      <td>...</td>\n",
       "      <td>...</td>\n",
       "      <td>...</td>\n",
       "      <td>...</td>\n",
       "      <td>...</td>\n",
       "    </tr>\n",
       "    <tr>\n",
       "      <th>113</th>\n",
       "      <td>IT Technical Support (Work Will Be Allocated I...</td>\n",
       "      <td>Full TimeExperienced · 5 - 15 Yrs of Exp · Ins...</td>\n",
       "      <td>Confidential -</td>\n",
       "      <td>Cairo, Egypt</td>\n",
       "      <td>/jobs/p/rKayHyYA4XAD-IT-Technical-Support-Work...</td>\n",
       "    </tr>\n",
       "    <tr>\n",
       "      <th>114</th>\n",
       "      <td>Full Stack Developer</td>\n",
       "      <td>Full TimeExperienced · 2+ Yrs of Exp · IT/Soft...</td>\n",
       "      <td>Paymint -</td>\n",
       "      <td>Cairo, Egypt</td>\n",
       "      <td>/jobs/p/PPTyC61x9NPl-Full-Stack-Developer-Paym...</td>\n",
       "    </tr>\n",
       "    <tr>\n",
       "      <th>115</th>\n",
       "      <td>Kotlin Developer - FinTech</td>\n",
       "      <td>Full TimeExperienced · 4+ Yrs of Exp · IT/Soft...</td>\n",
       "      <td>Bright Creations -</td>\n",
       "      <td>Smart Village, Giza, Egypt</td>\n",
       "      <td>/jobs/p/tD1HfvrFFkiV-Kotlin-Developer---FinTec...</td>\n",
       "    </tr>\n",
       "    <tr>\n",
       "      <th>116</th>\n",
       "      <td>Junior Software Developer</td>\n",
       "      <td>Full TimeEntry Level · 0 - 2 Yrs of Exp · IT/S...</td>\n",
       "      <td>Amriya Pharmaceutical Industries -</td>\n",
       "      <td>Ameria, Alexandria, Egypt</td>\n",
       "      <td>/jobs/p/6mxsu38sp272-Junior-Software-Developer...</td>\n",
       "    </tr>\n",
       "    <tr>\n",
       "      <th>117</th>\n",
       "      <td>Java Developer (FinTech)</td>\n",
       "      <td>Full TimeExperienced · 4+ Yrs of Exp · IT/Soft...</td>\n",
       "      <td>Bright Creations -</td>\n",
       "      <td>Smart Village, Giza, Egypt</td>\n",
       "      <td>/jobs/p/Tiaz4nYviy40-Java-Developer-FinTech-Br...</td>\n",
       "    </tr>\n",
       "  </tbody>\n",
       "</table>\n",
       "<p>118 rows × 5 columns</p>\n",
       "</div>"
      ],
      "text/plain": [
       "                                            Job Titles  \\\n",
       "0    Senior Java/ Scala Backend Developer with Pyth...   \n",
       "1                              Senior Python Developer   \n",
       "2                                     Python Developer   \n",
       "3                           Software Engineer (Python)   \n",
       "4    Python and Javascript Machine Learning Enginee...   \n",
       "..                                                 ...   \n",
       "113  IT Technical Support (Work Will Be Allocated I...   \n",
       "114                               Full Stack Developer   \n",
       "115                         Kotlin Developer - FinTech   \n",
       "116                          Junior Software Developer   \n",
       "117                           Java Developer (FinTech)   \n",
       "\n",
       "                                            Job Skills  \\\n",
       "0    Full TimeWork From HomeExperienced · 5+ Yrs of...   \n",
       "1    Full TimeExperienced · 4+ Yrs of Exp · IT/Soft...   \n",
       "2    Freelance / ProjectManager · 4 - 7 Yrs of Exp ...   \n",
       "3    Full TimePart TimeWork From HomeExperienced · ...   \n",
       "4    Full TimeWork From HomeExperienced · 3+ Yrs of...   \n",
       "..                                                 ...   \n",
       "113  Full TimeExperienced · 5 - 15 Yrs of Exp · Ins...   \n",
       "114  Full TimeExperienced · 2+ Yrs of Exp · IT/Soft...   \n",
       "115  Full TimeExperienced · 4+ Yrs of Exp · IT/Soft...   \n",
       "116  Full TimeEntry Level · 0 - 2 Yrs of Exp · IT/S...   \n",
       "117  Full TimeExperienced · 4+ Yrs of Exp · IT/Soft...   \n",
       "\n",
       "                           Company Name                     Location  \\\n",
       "0                    GetTechForce.com -                Cairo, Egypt    \n",
       "1                              Trufla -    Heliopolis, Cairo, Egypt    \n",
       "2                     Synergy Markets -     New Cairo, Cairo, Egypt    \n",
       "3                 Tam Development LLC -        Riyadh, Saudi Arabia    \n",
       "4                    GetTechForce.com -                Cairo, Egypt    \n",
       "..                                  ...                          ...   \n",
       "113                      Confidential -                Cairo, Egypt    \n",
       "114                           Paymint -                Cairo, Egypt    \n",
       "115                  Bright Creations -  Smart Village, Giza, Egypt    \n",
       "116  Amriya Pharmaceutical Industries -   Ameria, Alexandria, Egypt    \n",
       "117                  Bright Creations -  Smart Village, Giza, Egypt    \n",
       "\n",
       "                                                 Links  \n",
       "0    /jobs/p/jOSpVK9DRTCc-Senior-Java-Scala-Backend...  \n",
       "1    /jobs/p/WBHqaf7WeZYe-Senior-Python-Developer-T...  \n",
       "2    /jobs/p/Coiipd7kP6Za-Python-Developer-Synergy-...  \n",
       "3    /jobs/p/rdnYmzyFCkGJ-Software-Engineer-Python-...  \n",
       "4    /jobs/p/DgaOYxVHPUE7-Python-and-Javascript-Mac...  \n",
       "..                                                 ...  \n",
       "113  /jobs/p/rKayHyYA4XAD-IT-Technical-Support-Work...  \n",
       "114  /jobs/p/PPTyC61x9NPl-Full-Stack-Developer-Paym...  \n",
       "115  /jobs/p/tD1HfvrFFkiV-Kotlin-Developer---FinTec...  \n",
       "116  /jobs/p/6mxsu38sp272-Junior-Software-Developer...  \n",
       "117  /jobs/p/Tiaz4nYviy40-Java-Developer-FinTech-Br...  \n",
       "\n",
       "[118 rows x 5 columns]"
      ]
     },
     "execution_count": 39,
     "metadata": {},
     "output_type": "execute_result"
    }
   ],
   "source": [
    "import pandas as pd\n",
    "\n",
    "df = pd.DataFrame({\"Job Titles\":job_title,\n",
    "                   \"Job Skills\":job_skill,\n",
    "                   \"Company Name\":company_name,\n",
    "                   \"Location\":location,\n",
    "                   \"Links\":links})\n",
    "df"
   ]
  },
  {
   "cell_type": "markdown",
   "id": "7b1e63f5",
   "metadata": {},
   "source": [
    "### Data Cleaning"
   ]
  },
  {
   "cell_type": "code",
   "execution_count": 40,
   "id": "3a58de98",
   "metadata": {},
   "outputs": [],
   "source": [
    "df[\"Links\"] = ['https://wuzzuf.net'+l for l in df[\"Links\"] ]\n",
    "df['Company Name'] = [name.replace('-','') for name in df['Company Name']]\n",
    "df['Job Skills'] = [skills.replace('·',\",\") for skills in df['Job Skills']]"
   ]
  },
  {
   "cell_type": "code",
   "execution_count": 41,
   "id": "49008f5c",
   "metadata": {},
   "outputs": [
    {
     "data": {
      "text/plain": [
       "0      https://wuzzuf.net/jobs/p/jOSpVK9DRTCc-Senior-...\n",
       "1      https://wuzzuf.net/jobs/p/WBHqaf7WeZYe-Senior-...\n",
       "2      https://wuzzuf.net/jobs/p/Coiipd7kP6Za-Python-...\n",
       "3      https://wuzzuf.net/jobs/p/rdnYmzyFCkGJ-Softwar...\n",
       "4      https://wuzzuf.net/jobs/p/DgaOYxVHPUE7-Python-...\n",
       "                             ...                        \n",
       "113    https://wuzzuf.net/jobs/p/rKayHyYA4XAD-IT-Tech...\n",
       "114    https://wuzzuf.net/jobs/p/PPTyC61x9NPl-Full-St...\n",
       "115    https://wuzzuf.net/jobs/p/tD1HfvrFFkiV-Kotlin-...\n",
       "116    https://wuzzuf.net/jobs/p/6mxsu38sp272-Junior-...\n",
       "117    https://wuzzuf.net/jobs/p/Tiaz4nYviy40-Java-De...\n",
       "Name: Links, Length: 118, dtype: object"
      ]
     },
     "execution_count": 41,
     "metadata": {},
     "output_type": "execute_result"
    }
   ],
   "source": [
    "df[\"Links\"]"
   ]
  },
  {
   "cell_type": "code",
   "execution_count": 42,
   "id": "b8aa1b85",
   "metadata": {},
   "outputs": [
    {
     "data": {
      "text/plain": [
       "'Full TimeWork From HomeExperienced , 5+ Yrs of Exp , IT/Software Development , Engineering - Telecom/Technology , AngularJS , Computer Science , Design , Development , HTML5 , Information Technology (IT) , JPA , REST'"
      ]
     },
     "execution_count": 42,
     "metadata": {},
     "output_type": "execute_result"
    }
   ],
   "source": [
    "df['Job Skills'][0]"
   ]
  },
  {
   "cell_type": "markdown",
   "id": "390c0734",
   "metadata": {},
   "source": [
    "### Save data at csv file"
   ]
  },
  {
   "cell_type": "code",
   "execution_count": 44,
   "id": "52f853e0",
   "metadata": {},
   "outputs": [],
   "source": [
    "file = df.to_csv(\"Wzzuf_python_jobs.csv\")"
   ]
  },
  {
   "cell_type": "code",
   "execution_count": null,
   "id": "2faebad9",
   "metadata": {},
   "outputs": [],
   "source": []
  }
 ],
 "metadata": {
  "kernelspec": {
   "display_name": "Python 3 (ipykernel)",
   "language": "python",
   "name": "python3"
  },
  "language_info": {
   "codemirror_mode": {
    "name": "ipython",
    "version": 3
   },
   "file_extension": ".py",
   "mimetype": "text/x-python",
   "name": "python",
   "nbconvert_exporter": "python",
   "pygments_lexer": "ipython3",
   "version": "3.9.13"
  }
 },
 "nbformat": 4,
 "nbformat_minor": 5
}
